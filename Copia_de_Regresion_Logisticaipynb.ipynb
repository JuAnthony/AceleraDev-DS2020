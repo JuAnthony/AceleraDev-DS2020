{
  "nbformat": 4,
  "nbformat_minor": 0,
  "metadata": {
    "colab": {
      "name": "Copia de Regresion Logisticaipynb",
      "provenance": [],
      "collapsed_sections": [],
      "authorship_tag": "ABX9TyOOerxVWnWya4bxAiwRQ35N",
      "include_colab_link": true
    },
    "kernelspec": {
      "name": "python3",
      "display_name": "Python 3"
    }
  },
  "cells": [
    {
      "cell_type": "markdown",
      "metadata": {
        "id": "view-in-github",
        "colab_type": "text"
      },
      "source": [
        "<a href=\"https://colab.research.google.com/github/JuAnthony/AceleraDev-DS2020/blob/master/Copia_de_Regresion_Logisticaipynb.ipynb\" target=\"_parent\"><img src=\"https://colab.research.google.com/assets/colab-badge.svg\" alt=\"Open In Colab\"/></a>"
      ]
    },
    {
      "cell_type": "markdown",
      "metadata": {
        "id": "xLOv2p28Y-KG"
      },
      "source": [
        ""
      ]
    },
    {
      "cell_type": "code",
      "metadata": {
        "id": "E8OHjuHIMUqh"
      },
      "source": [
        "import pandas as pd\r\n",
        "import matplotlib.pyplot as plt\r\n",
        "import numpy as np\r\n",
        "import scipy as py \r\n",
        "import seaborn as sb\r\n"
      ],
      "execution_count": null,
      "outputs": []
    },
    {
      "cell_type": "code",
      "metadata": {
        "id": "9Th8GACLMgcd"
      },
      "source": [
        "%matplotlib inline "
      ],
      "execution_count": null,
      "outputs": []
    },
    {
      "cell_type": "code",
      "metadata": {
        "colab": {
          "resources": {
            "http://localhost:8080/nbextensions/google.colab/files.js": {
              "data": "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",
              "ok": true,
              "headers": [
                [
                  "content-type",
                  "application/javascript"
                ]
              ],
              "status": 200,
              "status_text": ""
            }
          },
          "base_uri": "https://localhost:8080/",
          "height": 109
        },
        "id": "i8DqpiSpMlPi",
        "outputId": "738717fe-b04b-4e8f-bb1c-333d837ae6bb"
      },
      "source": [
        "from google.colab import files\r\n",
        "files.upload()"
      ],
      "execution_count": null,
      "outputs": [
        {
          "output_type": "display_data",
          "data": {
            "text/html": [
              "\n",
              "     <input type=\"file\" id=\"files-25974cfe-4660-49d1-8dd8-f2c7cfe002a2\" name=\"files[]\" multiple disabled\n",
              "        style=\"border:none\" />\n",
              "     <output id=\"result-25974cfe-4660-49d1-8dd8-f2c7cfe002a2\">\n",
              "      Upload widget is only available when the cell has been executed in the\n",
              "      current browser session. Please rerun this cell to enable.\n",
              "      </output>\n",
              "      <script src=\"/nbextensions/google.colab/files.js\"></script> "
            ],
            "text/plain": [
              "<IPython.core.display.HTML object>"
            ]
          },
          "metadata": {
            "tags": []
          }
        },
        {
          "output_type": "stream",
          "text": [
            "Saving Gender Purchase.csv to Gender Purchase.csv\n"
          ],
          "name": "stdout"
        },
        {
          "output_type": "execute_result",
          "data": {
            "text/plain": [
              "{'Gender Purchase.csv': b'Gender,Purchase\\r\\nFemale,Yes\\r\\nFemale,Yes\\r\\nFemale,No\\r\\nMale,No\\r\\nMale,Yes\\r\\nFemale,Yes\\r\\nMale,No\\r\\nFemale,Yes\\r\\nFemale,No\\r\\nFemale,Yes\\r\\nFemale,No\\r\\nMale,No\\r\\nMale,Yes\\r\\nMale,No\\r\\nFemale,Yes\\r\\nMale,Yes\\r\\nMale,Yes\\r\\nMale,Yes\\r\\nFemale,Yes\\r\\nFemale,No\\r\\nMale,Yes\\r\\nMale,Yes\\r\\nMale,No\\r\\nFemale,Yes\\r\\nMale,Yes\\r\\nFemale,Yes\\r\\nMale,No\\r\\nMale,No\\r\\nFemale,Yes\\r\\nFemale,Yes\\r\\nMale,No\\r\\nFemale,Yes\\r\\nFemale,Yes\\r\\nFemale,No\\r\\nFemale,No\\r\\nFemale,Yes\\r\\nMale,Yes\\r\\nFemale,Yes\\r\\nFemale,Yes\\r\\nFemale,Yes\\r\\nMale,Yes\\r\\nMale,No\\r\\nFemale,Yes\\r\\nFemale,No\\r\\nFemale,Yes\\r\\nFemale,Yes\\r\\nFemale,No\\r\\nMale,Yes\\r\\nFemale,No\\r\\nFemale,Yes\\r\\nFemale,No\\r\\nMale,No\\r\\nFemale,Yes\\r\\nMale,Yes\\r\\nFemale,No\\r\\nFemale,No\\r\\nFemale,No\\r\\nFemale,Yes\\r\\nMale,Yes\\r\\nFemale,Yes\\r\\nMale,Yes\\r\\nMale,No\\r\\nMale,Yes\\r\\nMale,Yes\\r\\nMale,No\\r\\nMale,Yes\\r\\nFemale,Yes\\r\\nFemale,No\\r\\nMale,Yes\\r\\nFemale,No\\r\\nMale,Yes\\r\\nFemale,Yes\\r\\nFemale,Yes\\r\\nFemale,No\\r\\nFemale,No\\r\\nMale,Yes\\r\\nMale,No\\r\\nMale,No\\r\\nMale,No\\r\\nMale,No\\r\\nFemale,No\\r\\nMale,No\\r\\nMale,No\\r\\nFemale,Yes\\r\\nFemale,Yes\\r\\nFemale,Yes\\r\\nFemale,Yes\\r\\nFemale,Yes\\r\\nFemale,Yes\\r\\nMale,No\\r\\nMale,Yes\\r\\nFemale,Yes\\r\\nMale,No\\r\\nMale,No\\r\\nFemale,Yes\\r\\nFemale,No\\r\\nMale,Yes\\r\\nFemale,Yes\\r\\nFemale,Yes\\r\\nMale,Yes\\r\\nMale,No\\r\\nMale,Yes\\r\\nFemale,No\\r\\nMale,Yes\\r\\nFemale,Yes\\r\\nFemale,Yes\\r\\nMale,Yes\\r\\nFemale,No\\r\\nMale,No\\r\\nFemale,Yes\\r\\nFemale,No\\r\\nMale,Yes\\r\\nMale,Yes\\r\\nMale,Yes\\r\\nMale,No\\r\\nMale,No\\r\\nFemale,No\\r\\nFemale,No\\r\\nMale,Yes\\r\\nFemale,No\\r\\nFemale,Yes\\r\\nFemale,No\\r\\nFemale,Yes\\r\\nFemale,No\\r\\nMale,Yes\\r\\nFemale,Yes\\r\\nFemale,No\\r\\nMale,No\\r\\nFemale,Yes\\r\\nFemale,Yes\\r\\nMale,No\\r\\nFemale,Yes\\r\\nFemale,Yes\\r\\nMale,Yes\\r\\nMale,No\\r\\nMale,Yes\\r\\nFemale,Yes\\r\\nFemale,Yes\\r\\nFemale,No\\r\\nFemale,No\\r\\nMale,Yes\\r\\nMale,Yes\\r\\nMale,No\\r\\nFemale,Yes\\r\\nMale,Yes\\r\\nMale,No\\r\\nFemale,Yes\\r\\nMale,No\\r\\nMale,No\\r\\nFemale,Yes\\r\\nFemale,No\\r\\nFemale,Yes\\r\\nMale,Yes\\r\\nMale,Yes\\r\\nFemale,Yes\\r\\nMale,No\\r\\nMale,Yes\\r\\nMale,No\\r\\nMale,No\\r\\nFemale,No\\r\\nMale,Yes\\r\\nFemale,No\\r\\nMale,Yes\\r\\nMale,Yes\\r\\nMale,Yes\\r\\nMale,Yes\\r\\nFemale,Yes\\r\\nFemale,No\\r\\nFemale,Yes\\r\\nFemale,Yes\\r\\nFemale,No\\r\\nFemale,Yes\\r\\nFemale,No\\r\\nMale,Yes\\r\\nMale,No\\r\\nFemale,No\\r\\nMale,No\\r\\nMale,No\\r\\nMale,No\\r\\nFemale,Yes\\r\\nFemale,Yes\\r\\nFemale,No\\r\\nFemale,No\\r\\nFemale,No\\r\\nFemale,No\\r\\nFemale,Yes\\r\\nMale,No\\r\\nFemale,Yes\\r\\nFemale,Yes\\r\\nFemale,No\\r\\nFemale,No\\r\\nFemale,No\\r\\nFemale,Yes\\r\\nFemale,Yes\\r\\nMale,No\\r\\nMale,No\\r\\nMale,Yes\\r\\nFemale,No\\r\\nMale,No\\r\\nFemale,Yes\\r\\nFemale,Yes\\r\\nFemale,No\\r\\nFemale,No\\r\\nMale,No\\r\\nMale,No\\r\\nMale,No\\r\\nFemale,Yes\\r\\nMale,Yes\\r\\nMale,No\\r\\nFemale,Yes\\r\\nFemale,Yes\\r\\nMale,No\\r\\nFemale,No\\r\\nMale,Yes\\r\\nMale,No\\r\\nMale,Yes\\r\\nMale,Yes\\r\\nFemale,Yes\\r\\nFemale,Yes\\r\\nMale,No\\r\\nFemale,No\\r\\nMale,Yes\\r\\nMale,No\\r\\nMale,Yes\\r\\nMale,No\\r\\nFemale,Yes\\r\\nFemale,Yes\\r\\nFemale,No\\r\\nMale,No\\r\\nMale,No\\r\\nFemale,No\\r\\nMale,No\\r\\nMale,Yes\\r\\nFemale,Yes\\r\\nFemale,Yes\\r\\nFemale,No\\r\\nMale,No\\r\\nFemale,No\\r\\nFemale,Yes\\r\\nFemale,No\\r\\nMale,Yes\\r\\nMale,Yes\\r\\nFemale,Yes\\r\\nFemale,Yes\\r\\nFemale,Yes\\r\\nMale,No\\r\\nMale,Yes\\r\\nFemale,No\\r\\nMale,Yes\\r\\nMale,Yes\\r\\nMale,No\\r\\nFemale,Yes\\r\\nFemale,No\\r\\nFemale,No\\r\\nFemale,Yes\\r\\nFemale,Yes\\r\\nMale,No\\r\\nMale,No\\r\\nMale,No\\r\\nMale,No\\r\\nMale,No\\r\\nFemale,Yes\\r\\nFemale,No\\r\\nFemale,Yes\\r\\nMale,Yes\\r\\nFemale,Yes\\r\\nFemale,Yes\\r\\nMale,No\\r\\nMale,No\\r\\nMale,No\\r\\nMale,No\\r\\nMale,No\\r\\nFemale,Yes\\r\\nFemale,Yes\\r\\nFemale,No\\r\\nMale,No\\r\\nFemale,Yes\\r\\nFemale,Yes\\r\\nFemale,Yes\\r\\nFemale,Yes\\r\\nMale,No\\r\\nMale,No\\r\\nFemale,No\\r\\nMale,No\\r\\nMale,No\\r\\nFemale,No\\r\\nFemale,Yes\\r\\nMale,No\\r\\nFemale,Yes\\r\\nFemale,No\\r\\nFemale,Yes\\r\\nFemale,No\\r\\nMale,No\\r\\nFemale,Yes\\r\\nMale,No\\r\\nMale,Yes\\r\\nFemale,Yes\\r\\nFemale,Yes\\r\\nFemale,Yes\\r\\nFemale,No\\r\\nMale,Yes\\r\\nFemale,No\\r\\nMale,No\\r\\nFemale,Yes\\r\\nMale,Yes\\r\\nMale,No\\r\\nFemale,Yes\\r\\nFemale,Yes\\r\\nFemale,Yes\\r\\nFemale,Yes\\r\\nFemale,No\\r\\nMale,Yes\\r\\nMale,No\\r\\nFemale,Yes\\r\\nFemale,Yes\\r\\nFemale,No\\r\\nFemale,Yes\\r\\nFemale,Yes\\r\\nMale,No\\r\\nFemale,No\\r\\nMale,No\\r\\nFemale,No\\r\\nMale,No\\r\\nMale,No\\r\\nMale,Yes\\r\\nFemale,Yes\\r\\nMale,Yes\\r\\nMale,No\\r\\nMale,Yes\\r\\nMale,Yes\\r\\nMale,Yes\\r\\nMale,No\\r\\nFemale,Yes\\r\\nMale,Yes\\r\\nMale,No\\r\\nMale,Yes\\r\\nMale,Yes\\r\\nFemale,Yes\\r\\nMale,No\\r\\nMale,Yes\\r\\nMale,Yes\\r\\nFemale,Yes\\r\\nFemale,No\\r\\nFemale,No\\r\\nFemale,No\\r\\nMale,Yes\\r\\nFemale,No\\r\\nMale,No\\r\\nFemale,Yes\\r\\nFemale,No\\r\\nMale,Yes\\r\\nFemale,No\\r\\nFemale,No\\r\\nMale,Yes\\r\\nFemale,No\\r\\nFemale,No\\r\\nMale,Yes\\r\\nFemale,Yes\\r\\nFemale,Yes\\r\\nMale,Yes\\r\\nMale,No\\r\\nMale,Yes\\r\\nFemale,No\\r\\nFemale,Yes\\r\\nMale,Yes\\r\\nMale,Yes\\r\\nMale,Yes\\r\\nMale,No\\r\\nMale,Yes\\r\\nMale,No\\r\\nMale,No\\r\\nFemale,Yes\\r\\nFemale,No\\r\\nFemale,Yes\\r\\nFemale,No\\r\\nMale,Yes\\r\\nFemale,Yes\\r\\nFemale,Yes\\r\\nMale,No\\r\\nFemale,No\\r\\nFemale,No\\r\\nFemale,No\\r\\nMale,Yes\\r\\nFemale,Yes\\r\\nFemale,Yes\\r\\nMale,Yes\\r\\nMale,No\\r\\nFemale,No\\r\\nMale,No\\r\\nFemale,Yes\\r\\nMale,No\\r\\nFemale,Yes\\r\\nMale,Yes\\r\\nFemale,Yes\\r\\nMale,Yes\\r\\nMale,Yes\\r\\nMale,No\\r\\nMale,No\\r\\nMale,No\\r\\nFemale,No\\r\\nFemale,No\\r\\nMale,Yes\\r\\nFemale,Yes\\r\\nFemale,No\\r\\nFemale,Yes\\r\\nMale,Yes\\r\\nMale,No\\r\\nFemale,No\\r\\nMale,No\\r\\nFemale,Yes\\r\\nFemale,Yes\\r\\nFemale,No\\r\\nMale,No\\r\\nMale,Yes\\r\\nMale,No\\r\\nMale,Yes\\r\\nFemale,Yes\\r\\nMale,Yes\\r\\nMale,Yes\\r\\nFemale,No\\r\\nMale,No\\r\\nFemale,No\\r\\nFemale,No\\r\\nFemale,No\\r\\nFemale,Yes\\r\\nMale,Yes\\r\\nMale,Yes\\r\\nMale,No\\r\\nMale,No\\r\\nMale,No\\r\\nFemale,Yes\\r\\nMale,No\\r\\nMale,Yes\\r\\nFemale,Yes\\r\\nMale,Yes\\r\\nMale,Yes\\r\\nFemale,No\\r\\nFemale,Yes\\r\\nFemale,No\\r\\nFemale,Yes\\r\\nFemale,Yes\\r\\nMale,Yes\\r\\nMale,Yes\\r\\nMale,No\\r\\nFemale,Yes\\r\\nMale,No\\r\\nMale,Yes\\r\\nFemale,Yes\\r\\nFemale,No\\r\\nFemale,No\\r\\nFemale,No\\r\\nMale,No\\r\\nFemale,Yes\\r\\nMale,Yes\\r\\nMale,No\\r\\nMale,Yes\\r\\nFemale,No\\r\\nMale,No\\r\\nMale,No\\r\\nFemale,Yes\\r\\nMale,No\\r\\nFemale,Yes\\r\\nFemale,Yes\\r\\nMale,Yes\\r\\nFemale,Yes\\r\\nMale,Yes\\r\\nFemale,Yes\\r\\nFemale,Yes\\r\\nMale,No\\r\\nFemale,No\\r\\nFemale,Yes\\r\\nFemale,No\\r\\nMale,No\\r\\nFemale,No\\r\\nMale,Yes\\r\\nFemale,No\\r\\nMale,Yes\\r\\nFemale,Yes\\r\\nMale,No\\r\\nMale,No\\r\\nFemale,No\\r\\nMale,No\\r\\nMale,No\\r\\nMale,No\\r\\nMale,No\\r\\nMale,Yes\\r\\nMale,Yes\\r\\nMale,Yes\\r\\nFemale,Yes\\r\\nMale,Yes\\r\\nMale,Yes\\r\\nFemale,Yes\\r\\nFemale,No\\r\\nMale,Yes\\r\\nFemale,Yes\\r\\nFemale,Yes\\r\\nFemale,Yes\\r\\nMale,Yes\\r\\nMale,Yes\\r\\nFemale,Yes\\r\\nMale,Yes\\r\\nMale,Yes\\r\\nMale,No\\r\\nFemale,Yes\\r\\nFemale,Yes\\r\\nMale,Yes\\r\\nMale,Yes\\r\\nFemale,Yes\\r\\nMale,No\\r\\nFemale,Yes\\r\\nFemale,Yes\\r\\n'}"
            ]
          },
          "metadata": {
            "tags": []
          },
          "execution_count": 4
        }
      ]
    },
    {
      "cell_type": "code",
      "metadata": {
        "colab": {
          "base_uri": "https://localhost:8080/",
          "height": 419
        },
        "id": "--tz8SXfNIhD",
        "outputId": "3e0eb595-ab21-4f2d-8d48-ece63d3769fb"
      },
      "source": [
        "df=pd.read_csv('Gender Purchase.csv')\r\n",
        "df"
      ],
      "execution_count": null,
      "outputs": [
        {
          "output_type": "execute_result",
          "data": {
            "text/html": [
              "<div>\n",
              "<style scoped>\n",
              "    .dataframe tbody tr th:only-of-type {\n",
              "        vertical-align: middle;\n",
              "    }\n",
              "\n",
              "    .dataframe tbody tr th {\n",
              "        vertical-align: top;\n",
              "    }\n",
              "\n",
              "    .dataframe thead th {\n",
              "        text-align: right;\n",
              "    }\n",
              "</style>\n",
              "<table border=\"1\" class=\"dataframe\">\n",
              "  <thead>\n",
              "    <tr style=\"text-align: right;\">\n",
              "      <th></th>\n",
              "      <th>Gender</th>\n",
              "      <th>Purchase</th>\n",
              "    </tr>\n",
              "  </thead>\n",
              "  <tbody>\n",
              "    <tr>\n",
              "      <th>0</th>\n",
              "      <td>Female</td>\n",
              "      <td>Yes</td>\n",
              "    </tr>\n",
              "    <tr>\n",
              "      <th>1</th>\n",
              "      <td>Female</td>\n",
              "      <td>Yes</td>\n",
              "    </tr>\n",
              "    <tr>\n",
              "      <th>2</th>\n",
              "      <td>Female</td>\n",
              "      <td>No</td>\n",
              "    </tr>\n",
              "    <tr>\n",
              "      <th>3</th>\n",
              "      <td>Male</td>\n",
              "      <td>No</td>\n",
              "    </tr>\n",
              "    <tr>\n",
              "      <th>4</th>\n",
              "      <td>Male</td>\n",
              "      <td>Yes</td>\n",
              "    </tr>\n",
              "    <tr>\n",
              "      <th>...</th>\n",
              "      <td>...</td>\n",
              "      <td>...</td>\n",
              "    </tr>\n",
              "    <tr>\n",
              "      <th>506</th>\n",
              "      <td>Male</td>\n",
              "      <td>Yes</td>\n",
              "    </tr>\n",
              "    <tr>\n",
              "      <th>507</th>\n",
              "      <td>Female</td>\n",
              "      <td>Yes</td>\n",
              "    </tr>\n",
              "    <tr>\n",
              "      <th>508</th>\n",
              "      <td>Male</td>\n",
              "      <td>No</td>\n",
              "    </tr>\n",
              "    <tr>\n",
              "      <th>509</th>\n",
              "      <td>Female</td>\n",
              "      <td>Yes</td>\n",
              "    </tr>\n",
              "    <tr>\n",
              "      <th>510</th>\n",
              "      <td>Female</td>\n",
              "      <td>Yes</td>\n",
              "    </tr>\n",
              "  </tbody>\n",
              "</table>\n",
              "<p>511 rows × 2 columns</p>\n",
              "</div>"
            ],
            "text/plain": [
              "     Gender Purchase\n",
              "0    Female      Yes\n",
              "1    Female      Yes\n",
              "2    Female       No\n",
              "3      Male       No\n",
              "4      Male      Yes\n",
              "..      ...      ...\n",
              "506    Male      Yes\n",
              "507  Female      Yes\n",
              "508    Male       No\n",
              "509  Female      Yes\n",
              "510  Female      Yes\n",
              "\n",
              "[511 rows x 2 columns]"
            ]
          },
          "metadata": {
            "tags": []
          },
          "execution_count": 5
        }
      ]
    },
    {
      "cell_type": "code",
      "metadata": {
        "colab": {
          "base_uri": "https://localhost:8080/"
        },
        "id": "YYbddvLvSA-0",
        "outputId": "b7dc7451-63d9-4abc-bb63-7d605686febe"
      },
      "source": [
        "df.shape"
      ],
      "execution_count": null,
      "outputs": [
        {
          "output_type": "execute_result",
          "data": {
            "text/plain": [
              "(511, 2)"
            ]
          },
          "metadata": {
            "tags": []
          },
          "execution_count": 6
        }
      ]
    },
    {
      "cell_type": "code",
      "metadata": {
        "colab": {
          "base_uri": "https://localhost:8080/",
          "height": 142
        },
        "id": "K2_9HC3GSMaD",
        "outputId": "4e04cc80-3e35-4f27-8e2f-9b56e46acce7"
      },
      "source": [
        "contigency_table=pd.crosstab(df['Gender'],df['Purchase'])\r\n",
        "contigency_table "
      ],
      "execution_count": null,
      "outputs": [
        {
          "output_type": "execute_result",
          "data": {
            "text/html": [
              "<div>\n",
              "<style scoped>\n",
              "    .dataframe tbody tr th:only-of-type {\n",
              "        vertical-align: middle;\n",
              "    }\n",
              "\n",
              "    .dataframe tbody tr th {\n",
              "        vertical-align: top;\n",
              "    }\n",
              "\n",
              "    .dataframe thead th {\n",
              "        text-align: right;\n",
              "    }\n",
              "</style>\n",
              "<table border=\"1\" class=\"dataframe\">\n",
              "  <thead>\n",
              "    <tr style=\"text-align: right;\">\n",
              "      <th>Purchase</th>\n",
              "      <th>No</th>\n",
              "      <th>Yes</th>\n",
              "    </tr>\n",
              "    <tr>\n",
              "      <th>Gender</th>\n",
              "      <th></th>\n",
              "      <th></th>\n",
              "    </tr>\n",
              "  </thead>\n",
              "  <tbody>\n",
              "    <tr>\n",
              "      <th>Female</th>\n",
              "      <td>106</td>\n",
              "      <td>159</td>\n",
              "    </tr>\n",
              "    <tr>\n",
              "      <th>Male</th>\n",
              "      <td>125</td>\n",
              "      <td>121</td>\n",
              "    </tr>\n",
              "  </tbody>\n",
              "</table>\n",
              "</div>"
            ],
            "text/plain": [
              "Purchase   No  Yes\n",
              "Gender            \n",
              "Female    106  159\n",
              "Male      125  121"
            ]
          },
          "metadata": {
            "tags": []
          },
          "execution_count": 7
        }
      ]
    },
    {
      "cell_type": "code",
      "metadata": {
        "colab": {
          "base_uri": "https://localhost:8080/"
        },
        "id": "Y3lqgn_uDdVz",
        "outputId": "318f891c-34ee-44b9-e874-30fc39c34282"
      },
      "source": [
        "contigency_table.sum(axis=1)"
      ],
      "execution_count": null,
      "outputs": [
        {
          "output_type": "execute_result",
          "data": {
            "text/plain": [
              "Gender\n",
              "Female    265\n",
              "Male      246\n",
              "dtype: int64"
            ]
          },
          "metadata": {
            "tags": []
          },
          "execution_count": 8
        }
      ]
    },
    {
      "cell_type": "code",
      "metadata": {
        "colab": {
          "base_uri": "https://localhost:8080/"
        },
        "id": "Z47xWhxmZbsN",
        "outputId": "9a047dd6-e885-43d4-f40c-05baad41ab6b"
      },
      "source": [
        "contigency_table.sum(axis=0)"
      ],
      "execution_count": null,
      "outputs": [
        {
          "output_type": "execute_result",
          "data": {
            "text/plain": [
              "Purchase\n",
              "No     231\n",
              "Yes    280\n",
              "dtype: int64"
            ]
          },
          "metadata": {
            "tags": []
          },
          "execution_count": 10
        }
      ]
    },
    {
      "cell_type": "code",
      "metadata": {
        "colab": {
          "base_uri": "https://localhost:8080/",
          "height": 142
        },
        "id": "mg4MQ7ViLgpq",
        "outputId": "b3fa271d-65ea-4441-a1d7-d58b9a79d817"
      },
      "source": [
        "contigency_table.astype(\"float\").div(contigency_table.sum(axis=1),axis=0)"
      ],
      "execution_count": null,
      "outputs": [
        {
          "output_type": "execute_result",
          "data": {
            "text/html": [
              "<div>\n",
              "<style scoped>\n",
              "    .dataframe tbody tr th:only-of-type {\n",
              "        vertical-align: middle;\n",
              "    }\n",
              "\n",
              "    .dataframe tbody tr th {\n",
              "        vertical-align: top;\n",
              "    }\n",
              "\n",
              "    .dataframe thead th {\n",
              "        text-align: right;\n",
              "    }\n",
              "</style>\n",
              "<table border=\"1\" class=\"dataframe\">\n",
              "  <thead>\n",
              "    <tr style=\"text-align: right;\">\n",
              "      <th>Purchase</th>\n",
              "      <th>No</th>\n",
              "      <th>Yes</th>\n",
              "    </tr>\n",
              "    <tr>\n",
              "      <th>Gender</th>\n",
              "      <th></th>\n",
              "      <th></th>\n",
              "    </tr>\n",
              "  </thead>\n",
              "  <tbody>\n",
              "    <tr>\n",
              "      <th>Female</th>\n",
              "      <td>0.40000</td>\n",
              "      <td>0.60000</td>\n",
              "    </tr>\n",
              "    <tr>\n",
              "      <th>Male</th>\n",
              "      <td>0.50813</td>\n",
              "      <td>0.49187</td>\n",
              "    </tr>\n",
              "  </tbody>\n",
              "</table>\n",
              "</div>"
            ],
            "text/plain": [
              "Purchase       No      Yes\n",
              "Gender                    \n",
              "Female    0.40000  0.60000\n",
              "Male      0.50813  0.49187"
            ]
          },
          "metadata": {
            "tags": []
          },
          "execution_count": 11
        }
      ]
    },
    {
      "cell_type": "code",
      "metadata": {
        "id": "cWseTK4sqqrt"
      },
      "source": [
        ""
      ],
      "execution_count": null,
      "outputs": []
    },
    {
      "cell_type": "code",
      "metadata": {
        "id": "FpjS7UZARcJN"
      },
      "source": [
        "from IPython.display import display,Math,Latex"
      ],
      "execution_count": null,
      "outputs": []
    },
    {
      "cell_type": "markdown",
      "metadata": {
        "id": "dwwxBq8ySyvv"
      },
      "source": [
        "La probabilidad Condicional"
      ]
    },
    {
      "cell_type": "code",
      "metadata": {
        "id": "7fHZlAAaS3aC"
      },
      "source": [
        " "
      ],
      "execution_count": null,
      "outputs": []
    }
  ]
}